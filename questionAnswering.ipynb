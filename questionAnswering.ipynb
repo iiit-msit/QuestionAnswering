{
  "nbformat": 4,
  "nbformat_minor": 0,
  "metadata": {
    "colab": {
      "name": "Answering_Final.ipynb",
      "provenance": []
    },
    "kernelspec": {
      "name": "python3",
      "display_name": "Python 3"
    },
    "language_info": {
      "name": "python"
    }
  },
  "cells": [
    {
      "cell_type": "code",
      "metadata": {
        "id": "DaT3i5iRsMmt"
      },
      "source": [
        "!pip install spacy==2.1.0\n",
        "!pip install neuralcoref\n",
        "!python -m spacy download en_core_web_md\n",
        "!python -m spacy download en_core_web_sm"
      ],
      "execution_count": null,
      "outputs": []
    },
    {
      "cell_type": "code",
      "metadata": {
        "colab": {
          "base_uri": "https://localhost:8080/"
        },
        "id": "1UUMArcWsV9m",
        "outputId": "d7a87a3c-8107-4262-bf94-4cf2ca0af4fa"
      },
      "source": [
        "import spacy\n",
        "import nltk\n",
        "import neuralcoref\n",
        "import en_core_web_md\n",
        "\n",
        "\n",
        "nlp = spacy.load('en_core_web_sm')\n",
        "neuralcoref.add_to_pipe(nlp)\n",
        "\n",
        "sent = \"who is the founder of Samsung?\" \n",
        "\n",
        "text = \" Y S Jagan Mohan Reddy is the Chief Minister of Andhra Pradesh. He is also the founder and president of YSR Congress Party (YSRCP).\\\n",
        "Samsung was founded by Lee Byung-chul in 1938 as a trading company. Over the next three decades, the group diversified into areas including food processing, textiles, insurance, securities, and retail.\"\n",
        "\n",
        "doc = nlp(text)\n",
        "\n",
        "doc._.has_coref\n",
        "resolved_doc = doc._.coref_resolved\n",
        "\n",
        "nlp = en_core_web_md.load()\n",
        "res = resolved_doc.split(\".\")\n",
        "#res = ans\n",
        "# print(res)\n",
        "max = 0\n",
        "tmp = \"\"\n",
        "for i in range(len(res)-1):\n",
        "    \n",
        "    s = (nlp(sent).similarity(nlp(res[i])))\n",
        "    print(s)\n",
        "#     for x in list1:\n",
        "    if s > max :\n",
        "        max = s\n",
        "        tmp = res[i]\n",
        "#     if s > 0.9:\n",
        "print(\"Answer:\",tmp)\n",
        "print(\"similarity:\",max)"
      ],
      "execution_count": 14,
      "outputs": [
        {
          "output_type": "stream",
          "text": [
            "0.601789787835509\n",
            "0.7242356112548649\n",
            "0.7676441621504045\n",
            "0.7072343951916795\n",
            "Answer: Samsung was founded by Lee Byung-chul in 1938 as a trading company\n",
            "similarity: 0.7676441621504045\n"
          ],
          "name": "stdout"
        }
      ]
    }
  ]
}